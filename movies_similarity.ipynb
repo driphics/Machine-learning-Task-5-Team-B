{
  "nbformat": 4,
  "nbformat_minor": 0,
  "metadata": {
    "colab": {
      "name": "movies similarity",
      "provenance": [],
      "collapsed_sections": [],
      "toc_visible": true,
      "include_colab_link": true
    },
    "kernelspec": {
      "name": "python3",
      "display_name": "Python 3"
    },
    "accelerator": "GPU"
  },
  "cells": [
    {
      "cell_type": "markdown",
      "metadata": {
        "id": "view-in-github",
        "colab_type": "text"
      },
      "source": [
        "<a href=\"https://colab.research.google.com/github/abigailsleek/TEAM-B.-TASK-5/blob/master/movies_similarity.ipynb\" target=\"_parent\"><img src=\"https://colab.research.google.com/assets/colab-badge.svg\" alt=\"Open In Colab\"/></a>"
      ]
    },
    {
      "cell_type": "markdown",
      "metadata": {
        "id": "bw3boV8HJzqD",
        "colab_type": "text"
      },
      "source": [
        "# section 1\n",
        "\n",
        "> this includes importing libraries and data preparation.\n",
        "\n",
        "\n"
      ]
    },
    {
      "cell_type": "code",
      "metadata": {
        "id": "ZozRZB39_C2N",
        "colab_type": "code",
        "colab": {
          "base_uri": "https://localhost:8080/",
          "height": 52
        },
        "outputId": "068e6a57-38d5-44c5-950f-b01364a18ff3"
      },
      "source": [
        "# first off, we are going to be importing some libraries \n",
        "import pandas as pd\n",
        "import numpy as np\n",
        "import matplotlib.pyplot as plt\n",
        "%matplotlib inline\n",
        "import random as rd\n",
        "from scipy.sparse import csr_matrix\n",
        "\n",
        "!pip install helper\n",
        "import helper\n",
        "\n",
        "from sklearn.cluster import KMeans"
      ],
      "execution_count": 6,
      "outputs": [
        {
          "output_type": "stream",
          "text": [
            "Requirement already satisfied: helper in /usr/local/lib/python3.6/dist-packages (2.4.2)\n",
            "Requirement already satisfied: pyyaml in /usr/local/lib/python3.6/dist-packages (from helper) (3.13)\n"
          ],
          "name": "stdout"
        }
      ]
    },
    {
      "cell_type": "markdown",
      "metadata": {
        "id": "N7vOgxxI__Q4",
        "colab_type": "text"
      },
      "source": [
        "next, we are going to load the dataset to pandas dataframe"
      ]
    },
    {
      "cell_type": "code",
      "metadata": {
        "id": "H39TX11uAXCn",
        "colab_type": "code",
        "outputId": "892b933c-7776-4217-ffd2-85972c1b0241",
        "colab": {
          "base_uri": "https://localhost:8080/",
          "height": 125
        }
      },
      "source": [
        "from google.colab import drive\n",
        "drive.mount('/content/drive')"
      ],
      "execution_count": 2,
      "outputs": [
        {
          "output_type": "stream",
          "text": [
            "Go to this URL in a browser: https://accounts.google.com/o/oauth2/auth?client_id=947318989803-6bn6qk8qdgf4n4g3pfee6491hc0brc4i.apps.googleusercontent.com&redirect_uri=urn%3Aietf%3Awg%3Aoauth%3A2.0%3Aoob&scope=email%20https%3A%2F%2Fwww.googleapis.com%2Fauth%2Fdocs.test%20https%3A%2F%2Fwww.googleapis.com%2Fauth%2Fdrive%20https%3A%2F%2Fwww.googleapis.com%2Fauth%2Fdrive.photos.readonly%20https%3A%2F%2Fwww.googleapis.com%2Fauth%2Fpeopleapi.readonly&response_type=code\n",
            "\n",
            "Enter your authorization code:\n",
            "··········\n",
            "Mounted at /content/drive\n"
          ],
          "name": "stdout"
        }
      ]
    },
    {
      "cell_type": "code",
      "metadata": {
        "id": "gspQZyUU_9XC",
        "colab_type": "code",
        "outputId": "92d220a9-25d6-486e-cf7e-f286cfc58282",
        "colab": {
          "base_uri": "https://localhost:8080/",
          "height": 567
        }
      },
      "source": [
        "moviesDT = pd.read_csv('/content/drive/My Drive/Member/movies - movies.csv')\n",
        "moviesDT.head()"
      ],
      "execution_count": 21,
      "outputs": [
        {
          "output_type": "execute_result",
          "data": {
            "text/html": [
              "<div>\n",
              "<style scoped>\n",
              "    .dataframe tbody tr th:only-of-type {\n",
              "        vertical-align: middle;\n",
              "    }\n",
              "\n",
              "    .dataframe tbody tr th {\n",
              "        vertical-align: top;\n",
              "    }\n",
              "\n",
              "    .dataframe thead th {\n",
              "        text-align: right;\n",
              "    }\n",
              "</style>\n",
              "<table border=\"1\" class=\"dataframe\">\n",
              "  <thead>\n",
              "    <tr style=\"text-align: right;\">\n",
              "      <th></th>\n",
              "      <th>rank</th>\n",
              "      <th>title</th>\n",
              "      <th>genre</th>\n",
              "      <th>wiki_plot</th>\n",
              "      <th>imdb_plot</th>\n",
              "      <th>Unnamed: 5</th>\n",
              "      <th>Unnamed: 6</th>\n",
              "      <th>Unnamed: 7</th>\n",
              "      <th>Unnamed: 8</th>\n",
              "      <th>Unnamed: 9</th>\n",
              "      <th>Unnamed: 10</th>\n",
              "      <th>Unnamed: 11</th>\n",
              "      <th>Unnamed: 12</th>\n",
              "    </tr>\n",
              "  </thead>\n",
              "  <tbody>\n",
              "    <tr>\n",
              "      <th>0</th>\n",
              "      <td>0</td>\n",
              "      <td>The Godfather</td>\n",
              "      <td>[u' Crime', u' Drama']</td>\n",
              "      <td>On the day of his only daughter's wedding, Vit...</td>\n",
              "      <td>In late summer 1945, guests are gathered for t...</td>\n",
              "      <td>NaN</td>\n",
              "      <td>NaN</td>\n",
              "      <td>NaN</td>\n",
              "      <td>NaN</td>\n",
              "      <td>NaN</td>\n",
              "      <td>NaN</td>\n",
              "      <td>NaN</td>\n",
              "      <td>NaN</td>\n",
              "    </tr>\n",
              "    <tr>\n",
              "      <th>1</th>\n",
              "      <td>1</td>\n",
              "      <td>The Shawshank Redemption</td>\n",
              "      <td>[u' Crime', u' Drama']</td>\n",
              "      <td>In 1947, banker Andy Dufresne is convicted of ...</td>\n",
              "      <td>In 1947, Andy Dufresne (Tim Robbins), a banker...</td>\n",
              "      <td>NaN</td>\n",
              "      <td>NaN</td>\n",
              "      <td>NaN</td>\n",
              "      <td>NaN</td>\n",
              "      <td>NaN</td>\n",
              "      <td>NaN</td>\n",
              "      <td>NaN</td>\n",
              "      <td>NaN</td>\n",
              "    </tr>\n",
              "    <tr>\n",
              "      <th>2</th>\n",
              "      <td>2</td>\n",
              "      <td>Schindler's List</td>\n",
              "      <td>[u' Biography', u' Drama', u' History']</td>\n",
              "      <td>In 1939, the Germans move Polish Jews into the...</td>\n",
              "      <td>The relocation of Polish Jews from surrounding...</td>\n",
              "      <td>NaN</td>\n",
              "      <td>NaN</td>\n",
              "      <td>NaN</td>\n",
              "      <td>NaN</td>\n",
              "      <td>NaN</td>\n",
              "      <td>NaN</td>\n",
              "      <td>NaN</td>\n",
              "      <td>NaN</td>\n",
              "    </tr>\n",
              "    <tr>\n",
              "      <th>3</th>\n",
              "      <td>3</td>\n",
              "      <td>Raging Bull</td>\n",
              "      <td>[u' Biography', u' Drama', u' Sport']</td>\n",
              "      <td>In a brief scene in 1964, an aging, overweight...</td>\n",
              "      <td>The film opens in 1964, where an older and fat...</td>\n",
              "      <td>NaN</td>\n",
              "      <td>NaN</td>\n",
              "      <td>NaN</td>\n",
              "      <td>NaN</td>\n",
              "      <td>NaN</td>\n",
              "      <td>NaN</td>\n",
              "      <td>NaN</td>\n",
              "      <td>NaN</td>\n",
              "    </tr>\n",
              "    <tr>\n",
              "      <th>4</th>\n",
              "      <td>4</td>\n",
              "      <td>Casablanca</td>\n",
              "      <td>[u' Drama', u' Romance', u' War']</td>\n",
              "      <td>It is early December 1941. American expatriate...</td>\n",
              "      <td>In the early years of World War II, December 1...</td>\n",
              "      <td>NaN</td>\n",
              "      <td>NaN</td>\n",
              "      <td>NaN</td>\n",
              "      <td>NaN</td>\n",
              "      <td>NaN</td>\n",
              "      <td>NaN</td>\n",
              "      <td>NaN</td>\n",
              "      <td>NaN</td>\n",
              "    </tr>\n",
              "  </tbody>\n",
              "</table>\n",
              "</div>"
            ],
            "text/plain": [
              "  rank                     title  ... Unnamed: 11 Unnamed: 12\n",
              "0    0             The Godfather  ...         NaN         NaN\n",
              "1    1  The Shawshank Redemption  ...         NaN         NaN\n",
              "2    2          Schindler's List  ...         NaN         NaN\n",
              "3    3               Raging Bull  ...         NaN         NaN\n",
              "4    4                Casablanca  ...         NaN         NaN\n",
              "\n",
              "[5 rows x 13 columns]"
            ]
          },
          "metadata": {
            "tags": []
          },
          "execution_count": 21
        }
      ]
    },
    {
      "cell_type": "code",
      "metadata": {
        "id": "82kwUJ6Mqi9y",
        "colab_type": "code",
        "colab": {}
      },
      "source": [
        ""
      ],
      "execution_count": 0,
      "outputs": []
    },
    {
      "cell_type": "markdown",
      "metadata": {
        "id": "mxMZwn54KQL4",
        "colab_type": "text"
      },
      "source": [
        "so i want to drop all these unnecessary data for simplicity and ease."
      ]
    },
    {
      "cell_type": "code",
      "metadata": {
        "id": "Wwh4ZYIV_9rl",
        "colab_type": "code",
        "outputId": "80996f18-2b60-459c-d6a0-8c400dd26f66",
        "colab": {
          "base_uri": "https://localhost:8080/",
          "height": 281
        }
      },
      "source": [
        "moviesDT.drop(['Unnamed: 5', 'Unnamed: 6', 'Unnamed: 7', 'Unnamed: 8', 'Unnamed: 9', 'Unnamed: 10', 'Unnamed: 11', 'Unnamed: 12'],axis=1, inplace=True)\n",
        "moviesDT.head()"
      ],
      "execution_count": 23,
      "outputs": [
        {
          "output_type": "execute_result",
          "data": {
            "text/html": [
              "<div>\n",
              "<style scoped>\n",
              "    .dataframe tbody tr th:only-of-type {\n",
              "        vertical-align: middle;\n",
              "    }\n",
              "\n",
              "    .dataframe tbody tr th {\n",
              "        vertical-align: top;\n",
              "    }\n",
              "\n",
              "    .dataframe thead th {\n",
              "        text-align: right;\n",
              "    }\n",
              "</style>\n",
              "<table border=\"1\" class=\"dataframe\">\n",
              "  <thead>\n",
              "    <tr style=\"text-align: right;\">\n",
              "      <th></th>\n",
              "      <th>rank</th>\n",
              "      <th>title</th>\n",
              "      <th>genre</th>\n",
              "      <th>wiki_plot</th>\n",
              "      <th>imdb_plot</th>\n",
              "    </tr>\n",
              "  </thead>\n",
              "  <tbody>\n",
              "    <tr>\n",
              "      <th>0</th>\n",
              "      <td>0</td>\n",
              "      <td>The Godfather</td>\n",
              "      <td>[u' Crime', u' Drama']</td>\n",
              "      <td>On the day of his only daughter's wedding, Vit...</td>\n",
              "      <td>In late summer 1945, guests are gathered for t...</td>\n",
              "    </tr>\n",
              "    <tr>\n",
              "      <th>1</th>\n",
              "      <td>1</td>\n",
              "      <td>The Shawshank Redemption</td>\n",
              "      <td>[u' Crime', u' Drama']</td>\n",
              "      <td>In 1947, banker Andy Dufresne is convicted of ...</td>\n",
              "      <td>In 1947, Andy Dufresne (Tim Robbins), a banker...</td>\n",
              "    </tr>\n",
              "    <tr>\n",
              "      <th>2</th>\n",
              "      <td>2</td>\n",
              "      <td>Schindler's List</td>\n",
              "      <td>[u' Biography', u' Drama', u' History']</td>\n",
              "      <td>In 1939, the Germans move Polish Jews into the...</td>\n",
              "      <td>The relocation of Polish Jews from surrounding...</td>\n",
              "    </tr>\n",
              "    <tr>\n",
              "      <th>3</th>\n",
              "      <td>3</td>\n",
              "      <td>Raging Bull</td>\n",
              "      <td>[u' Biography', u' Drama', u' Sport']</td>\n",
              "      <td>In a brief scene in 1964, an aging, overweight...</td>\n",
              "      <td>The film opens in 1964, where an older and fat...</td>\n",
              "    </tr>\n",
              "    <tr>\n",
              "      <th>4</th>\n",
              "      <td>4</td>\n",
              "      <td>Casablanca</td>\n",
              "      <td>[u' Drama', u' Romance', u' War']</td>\n",
              "      <td>It is early December 1941. American expatriate...</td>\n",
              "      <td>In the early years of World War II, December 1...</td>\n",
              "    </tr>\n",
              "  </tbody>\n",
              "</table>\n",
              "</div>"
            ],
            "text/plain": [
              "  rank  ...                                          imdb_plot\n",
              "0    0  ...  In late summer 1945, guests are gathered for t...\n",
              "1    1  ...  In 1947, Andy Dufresne (Tim Robbins), a banker...\n",
              "2    2  ...  The relocation of Polish Jews from surrounding...\n",
              "3    3  ...  The film opens in 1964, where an older and fat...\n",
              "4    4  ...  In the early years of World War II, December 1...\n",
              "\n",
              "[5 rows x 5 columns]"
            ]
          },
          "metadata": {
            "tags": []
          },
          "execution_count": 23
        }
      ]
    },
    {
      "cell_type": "code",
      "metadata": {
        "id": "sf1LzwS9qcxs",
        "colab_type": "code",
        "colab": {}
      },
      "source": [
        ""
      ],
      "execution_count": 0,
      "outputs": []
    },
    {
      "cell_type": "markdown",
      "metadata": {
        "id": "A_aq40LZsNR3",
        "colab_type": "text"
      },
      "source": [
        "here, i'm going to merge the wiki_plot and the imdb_plot since they have slightly different summaries of the same movie, so i want to combine and form a single plot for easy computation."
      ]
    },
    {
      "cell_type": "code",
      "metadata": {
        "dc": {
          "key": "10"
        },
        "tags": [
          "sample_code"
        ],
        "id": "ZrdON2tLOLvO",
        "colab_type": "code",
        "outputId": "e80a95c6-755b-4f17-aa62-1c80fbb502aa",
        "colab": {
          "base_uri": "https://localhost:8080/",
          "height": 281
        }
      },
      "source": [
        "\n",
        "moviesDT['plot'] = moviesDT['wiki_plot'].astype(str) + \"\\n\" + \\\n",
        "                 moviesDT['imdb_plot'].astype(str)\n",
        "\n",
        "moviesDT.head()"
      ],
      "execution_count": 36,
      "outputs": [
        {
          "output_type": "execute_result",
          "data": {
            "text/html": [
              "<div>\n",
              "<style scoped>\n",
              "    .dataframe tbody tr th:only-of-type {\n",
              "        vertical-align: middle;\n",
              "    }\n",
              "\n",
              "    .dataframe tbody tr th {\n",
              "        vertical-align: top;\n",
              "    }\n",
              "\n",
              "    .dataframe thead th {\n",
              "        text-align: right;\n",
              "    }\n",
              "</style>\n",
              "<table border=\"1\" class=\"dataframe\">\n",
              "  <thead>\n",
              "    <tr style=\"text-align: right;\">\n",
              "      <th></th>\n",
              "      <th>rank</th>\n",
              "      <th>title</th>\n",
              "      <th>genre</th>\n",
              "      <th>wiki_plot</th>\n",
              "      <th>imdb_plot</th>\n",
              "      <th>plot</th>\n",
              "    </tr>\n",
              "  </thead>\n",
              "  <tbody>\n",
              "    <tr>\n",
              "      <th>0</th>\n",
              "      <td>0</td>\n",
              "      <td>The Godfather</td>\n",
              "      <td>[u' Crime', u' Drama']</td>\n",
              "      <td>On the day of his only daughter's wedding, Vit...</td>\n",
              "      <td>In late summer 1945, guests are gathered for t...</td>\n",
              "      <td>On the day of his only daughter's wedding, Vit...</td>\n",
              "    </tr>\n",
              "    <tr>\n",
              "      <th>1</th>\n",
              "      <td>1</td>\n",
              "      <td>The Shawshank Redemption</td>\n",
              "      <td>[u' Crime', u' Drama']</td>\n",
              "      <td>In 1947, banker Andy Dufresne is convicted of ...</td>\n",
              "      <td>In 1947, Andy Dufresne (Tim Robbins), a banker...</td>\n",
              "      <td>In 1947, banker Andy Dufresne is convicted of ...</td>\n",
              "    </tr>\n",
              "    <tr>\n",
              "      <th>2</th>\n",
              "      <td>2</td>\n",
              "      <td>Schindler's List</td>\n",
              "      <td>[u' Biography', u' Drama', u' History']</td>\n",
              "      <td>In 1939, the Germans move Polish Jews into the...</td>\n",
              "      <td>The relocation of Polish Jews from surrounding...</td>\n",
              "      <td>In 1939, the Germans move Polish Jews into the...</td>\n",
              "    </tr>\n",
              "    <tr>\n",
              "      <th>3</th>\n",
              "      <td>3</td>\n",
              "      <td>Raging Bull</td>\n",
              "      <td>[u' Biography', u' Drama', u' Sport']</td>\n",
              "      <td>In a brief scene in 1964, an aging, overweight...</td>\n",
              "      <td>The film opens in 1964, where an older and fat...</td>\n",
              "      <td>In a brief scene in 1964, an aging, overweight...</td>\n",
              "    </tr>\n",
              "    <tr>\n",
              "      <th>4</th>\n",
              "      <td>4</td>\n",
              "      <td>Casablanca</td>\n",
              "      <td>[u' Drama', u' Romance', u' War']</td>\n",
              "      <td>It is early December 1941. American expatriate...</td>\n",
              "      <td>In the early years of World War II, December 1...</td>\n",
              "      <td>It is early December 1941. American expatriate...</td>\n",
              "    </tr>\n",
              "  </tbody>\n",
              "</table>\n",
              "</div>"
            ],
            "text/plain": [
              "  rank  ...                                               plot\n",
              "0    0  ...  On the day of his only daughter's wedding, Vit...\n",
              "1    1  ...  In 1947, banker Andy Dufresne is convicted of ...\n",
              "2    2  ...  In 1939, the Germans move Polish Jews into the...\n",
              "3    3  ...  In a brief scene in 1964, an aging, overweight...\n",
              "4    4  ...  It is early December 1941. American expatriate...\n",
              "\n",
              "[5 rows x 6 columns]"
            ]
          },
          "metadata": {
            "tags": []
          },
          "execution_count": 36
        }
      ]
    },
    {
      "cell_type": "code",
      "metadata": {
        "id": "6fCXMEgyqccG",
        "colab_type": "code",
        "colab": {
          "base_uri": "https://localhost:8080/",
          "height": 184
        },
        "outputId": "470d2278-8183-4972-a11c-5d8b27ca6ad3"
      },
      "source": [
        "# statistics of my moviesDT\n",
        "moviesDT.describe()"
      ],
      "execution_count": 37,
      "outputs": [
        {
          "output_type": "execute_result",
          "data": {
            "text/html": [
              "<div>\n",
              "<style scoped>\n",
              "    .dataframe tbody tr th:only-of-type {\n",
              "        vertical-align: middle;\n",
              "    }\n",
              "\n",
              "    .dataframe tbody tr th {\n",
              "        vertical-align: top;\n",
              "    }\n",
              "\n",
              "    .dataframe thead th {\n",
              "        text-align: right;\n",
              "    }\n",
              "</style>\n",
              "<table border=\"1\" class=\"dataframe\">\n",
              "  <thead>\n",
              "    <tr style=\"text-align: right;\">\n",
              "      <th></th>\n",
              "      <th>rank</th>\n",
              "      <th>title</th>\n",
              "      <th>genre</th>\n",
              "      <th>wiki_plot</th>\n",
              "      <th>imdb_plot</th>\n",
              "      <th>plot</th>\n",
              "    </tr>\n",
              "  </thead>\n",
              "  <tbody>\n",
              "    <tr>\n",
              "      <th>count</th>\n",
              "      <td>101</td>\n",
              "      <td>101</td>\n",
              "      <td>101</td>\n",
              "      <td>101</td>\n",
              "      <td>91</td>\n",
              "      <td>102</td>\n",
              "    </tr>\n",
              "    <tr>\n",
              "      <th>unique</th>\n",
              "      <td>101</td>\n",
              "      <td>101</td>\n",
              "      <td>62</td>\n",
              "      <td>101</td>\n",
              "      <td>91</td>\n",
              "      <td>102</td>\n",
              "    </tr>\n",
              "    <tr>\n",
              "      <th>top</th>\n",
              "      <td>72</td>\n",
              "      <td>The Graduate</td>\n",
              "      <td>[u' Drama']</td>\n",
              "      <td>Howard Beale, the longtime anchor of the Union...</td>\n",
              "      <td>Shortly after moving to Los Angeles with his p...</td>\n",
              "      <td>In 1936, archaeologist Indiana Jones braves an...</td>\n",
              "    </tr>\n",
              "    <tr>\n",
              "      <th>freq</th>\n",
              "      <td>1</td>\n",
              "      <td>1</td>\n",
              "      <td>11</td>\n",
              "      <td>1</td>\n",
              "      <td>1</td>\n",
              "      <td>1</td>\n",
              "    </tr>\n",
              "  </tbody>\n",
              "</table>\n",
              "</div>"
            ],
            "text/plain": [
              "       rank  ...                                               plot\n",
              "count   101  ...                                                102\n",
              "unique  101  ...                                                102\n",
              "top      72  ...  In 1936, archaeologist Indiana Jones braves an...\n",
              "freq      1  ...                                                  1\n",
              "\n",
              "[4 rows x 6 columns]"
            ]
          },
          "metadata": {
            "tags": []
          },
          "execution_count": 37
        }
      ]
    },
    {
      "cell_type": "code",
      "metadata": {
        "id": "iR8_29B0tT6G",
        "colab_type": "code",
        "colab": {}
      },
      "source": [
        ""
      ],
      "execution_count": 0,
      "outputs": []
    },
    {
      "cell_type": "markdown",
      "metadata": {
        "id": "bvlTxGgc94BU",
        "colab_type": "text"
      },
      "source": [
        "# Pre-processing my data in Natural Languge\n",
        "> this includes:\n",
        "\n",
        "\n",
        "\n",
        "1.   Tokenization\n",
        "2.   Stemming\n",
        "\n",
        "\n",
        "\n",
        "\n"
      ]
    },
    {
      "cell_type": "markdown",
      "metadata": {
        "id": "VeXBNNKqtVHC",
        "colab_type": "text"
      },
      "source": [
        "next, i'm going to tokenize my data.\n",
        "Tokenization is the act of breaking up a sequence of strings into pieces such as words, keywords, phrases, symbols and other elements called tokens. Tokens can be individual words, phrases or even whole sentences. In the process of tokenization, some characters like punctuation marks are dicarded. So i'm going to use the NLTK method of tokenization.\n",
        "\n"
      ]
    },
    {
      "cell_type": "code",
      "metadata": {
        "id": "liaHQPHV_9ya",
        "colab_type": "code",
        "colab": {
          "base_uri": "https://localhost:8080/",
          "height": 70
        },
        "outputId": "fbd95582-f851-4567-b633-a024f5ea2a66"
      },
      "source": [
        "import nltk\n",
        "nltk.download('punkt')"
      ],
      "execution_count": 14,
      "outputs": [
        {
          "output_type": "stream",
          "text": [
            "[nltk_data] Downloading package punkt to /root/nltk_data...\n",
            "[nltk_data]   Unzipping tokenizers/punkt.zip.\n"
          ],
          "name": "stdout"
        },
        {
          "output_type": "execute_result",
          "data": {
            "text/plain": [
              "True"
            ]
          },
          "metadata": {
            "tags": []
          },
          "execution_count": 14
        }
      ]
    },
    {
      "cell_type": "code",
      "metadata": {
        "dc": {
          "key": "17"
        },
        "tags": [
          "sample_code"
        ],
        "id": "PNkLGVHJOLvT",
        "colab_type": "code",
        "outputId": "a9549ad4-b92f-4a18-c4ef-19e278da9277",
        "colab": {
          "base_uri": "https://localhost:8080/",
          "height": 283
        }
      },
      "source": [
        "# Tokenize a paragraph from the wizard of oz into sentences and store in  a variable 'sent_tokenized'\n",
        "sent_tokenized = [sent for sent in nltk.sent_tokenize(\"\"\"\n",
        "                         Dorothy and her friends are hindered and menaced by the Wicked Witch of the West.\n",
        "                         She incites trees to throw apples at them, then tries to set the scarecrow on fire.\n",
        "                        \"\"\")]\n",
        "\n",
        "# Word Tokenize first sentence from sent_tokenized, save the result in a variable 'words_tokenized'\n",
        "words_tokenized = [word for word in nltk.word_tokenize(sent_tokenized[0])]\n",
        "\n",
        "#I'm going to need to import a library that helps remove tokens that do not contain any letters from words_tokenized\n",
        "import re\n",
        "\n",
        "filtered = [word for word in words_tokenized if re.search('[a-zA-Z]', word)]\n",
        "\n",
        "# Let's observe words after tokenization\n",
        "filtered"
      ],
      "execution_count": 18,
      "outputs": [
        {
          "output_type": "execute_result",
          "data": {
            "text/plain": [
              "['Dorothy',\n",
              " 'and',\n",
              " 'her',\n",
              " 'friends',\n",
              " 'are',\n",
              " 'hindered',\n",
              " 'and',\n",
              " 'menaced',\n",
              " 'by',\n",
              " 'the',\n",
              " 'Wicked',\n",
              " 'Witch',\n",
              " 'of',\n",
              " 'the',\n",
              " 'West']"
            ]
          },
          "metadata": {
            "tags": []
          },
          "execution_count": 18
        }
      ]
    },
    {
      "cell_type": "markdown",
      "metadata": {
        "id": "Tu0lI6o2FSmX",
        "colab_type": "text"
      },
      "source": [
        "Next, i'm going to stem my already filtered data. Stemming is a process where words are reduced to a root by removing inflection through dropping unnecessary characters, usually a suffix. There are several stemming models, including Porter and Snowball."
      ]
    },
    {
      "cell_type": "code",
      "metadata": {
        "id": "iFIK0g5AsKzG",
        "colab_type": "code",
        "colab": {}
      },
      "source": [
        "from nltk.stem.snowball import SnowballStemmer\n"
      ],
      "execution_count": 0,
      "outputs": []
    },
    {
      "cell_type": "code",
      "metadata": {
        "dc": {
          "key": "24"
        },
        "tags": [
          "sample_code"
        ],
        "id": "ZigUtSKNOLvY",
        "colab_type": "code",
        "outputId": "1ca32736-6b1d-48d0-97d0-19b807b4f194",
        "colab": {
          "base_uri": "https://localhost:8080/",
          "height": 54
        }
      },
      "source": [
        "\n",
        "# I want to create a SnowballStemmer object in english\n",
        "stemmer = SnowballStemmer(\"english\")\n",
        "\n",
        "# let's observe words without stemming\n",
        "print(\"Without stemming: \", filtered)\n",
        "\n",
        "\n"
      ],
      "execution_count": 25,
      "outputs": [
        {
          "output_type": "stream",
          "text": [
            "Without stemming:  ['Dorothy', 'and', 'her', 'friends', 'are', 'hindered', 'and', 'menaced', 'by', 'the', 'Wicked', 'Witch', 'of', 'the', 'West']\n"
          ],
          "name": "stdout"
        }
      ]
    },
    {
      "cell_type": "code",
      "metadata": {
        "id": "fOKyg5fKFSFV",
        "colab_type": "code",
        "colab": {
          "base_uri": "https://localhost:8080/",
          "height": 54
        },
        "outputId": "ad05f510-ce38-4b5f-e267-e4ccd89b4738"
      },
      "source": [
        "#  I want to Stem the words from filtered data above and store in a variable'stemmed_words'\n",
        "stemmed_words = [stemmer.stem(word) for word in filtered]\n",
        "# now let's check out after stemming\n",
        "print(\"After stemming:   \", stemmed_words)"
      ],
      "execution_count": 26,
      "outputs": [
        {
          "output_type": "stream",
          "text": [
            "After stemming:    ['dorothi', 'and', 'her', 'friend', 'are', 'hinder', 'and', 'menac', 'by', 'the', 'wick', 'witch', 'of', 'the', 'west']\n"
          ],
          "name": "stdout"
        }
      ]
    },
    {
      "cell_type": "code",
      "metadata": {
        "id": "j7g3uQwjFR02",
        "colab_type": "code",
        "colab": {}
      },
      "source": [
        ""
      ],
      "execution_count": 0,
      "outputs": []
    },
    {
      "cell_type": "markdown",
      "metadata": {
        "id": "vAq2iOyTSGoq",
        "colab_type": "text"
      },
      "source": [
        "**clubbing**\n",
        "\n",
        "so i want to wrap the tokenized and stemmed text together so that i can create a TF-IDF vector of the text. Basically clubbing just makes the work easier by merging the filtered and stem text together as one instead of creating a TF-IDF vector simultaneously for the stem and filtered text, it's done just once on the clubbed data."
      ]
    },
    {
      "cell_type": "code",
      "metadata": {
        "dc": {
          "key": "31"
        },
        "tags": [
          "sample_code"
        ],
        "id": "6QZS74NHOLvc",
        "colab_type": "code",
        "colab": {
          "base_uri": "https://localhost:8080/",
          "height": 34
        },
        "outputId": "2b8c284b-6172-42ce-f38b-88e4c67b1365"
      },
      "source": [
        "# I am going to define a function to perform both stemming and tokenization\n",
        "def tokenize_plus_stem(text):\n",
        "    \n",
        "    # Tokenize by sentence, then by word\n",
        "    tokens = [y for x in nltk.sent_tokenize(text) for y in nltk.word_tokenize(x)]\n",
        "    \n",
        "    # Filter out raw tokens to remove noise\n",
        "    filtered_tokens = [token for token in tokens if re.search('[a-zA-Z]', token)]\n",
        "    \n",
        "    # Stem the filtered_tokens\n",
        "    stems = [stemmer.stem(word) for word in filtered_tokens]\n",
        "    \n",
        "    return stems\n",
        "\n",
        "words_stemmed = tokenize_plus_stem(\"Dorothy and her friends are hindered and menaced by the Wicked Witch of the West.\")\n",
        "print(words_stemmed)"
      ],
      "execution_count": 27,
      "outputs": [
        {
          "output_type": "stream",
          "text": [
            "['dorothi', 'and', 'her', 'friend', 'are', 'hinder', 'and', 'menac', 'by', 'the', 'wick', 'witch', 'of', 'the', 'west']\n"
          ],
          "name": "stdout"
        }
      ]
    },
    {
      "cell_type": "code",
      "metadata": {
        "id": "0xjWoBPbFRuV",
        "colab_type": "code",
        "colab": {}
      },
      "source": [
        ""
      ],
      "execution_count": 0,
      "outputs": []
    },
    {
      "cell_type": "markdown",
      "metadata": {
        "id": "RcNYQaycZ5s8",
        "colab_type": "text"
      },
      "source": [
        "#  Section 3\n",
        "\n",
        "> this icludes the use of algorithms like:\n",
        "\n",
        "*  ** TF-TDF VECTORIZER**\n",
        "\n",
        "\n",
        "\n"
      ]
    },
    {
      "cell_type": "markdown",
      "metadata": {
        "id": "13d-ShZgayzm",
        "colab_type": "text"
      },
      "source": [
        "You know computers are not naturally smart except we make to,and they don't understand texts only 0's and 1's. So we are going to need to transform the texts to numbers for it to be meaningful to the computer.\n",
        "\n",
        "TF-IDF (term frequency-inverse document frequency) is a metric that represents how 'important' a word is to a document in the document set."
      ]
    },
    {
      "cell_type": "code",
      "metadata": {
        "id": "559y4d7sFRje",
        "colab_type": "code",
        "colab": {}
      },
      "source": [
        " \n",
        "from sklearn.feature_extraction.text import TfidfVectorizer"
      ],
      "execution_count": 0,
      "outputs": []
    },
    {
      "cell_type": "code",
      "metadata": {
        "dc": {
          "key": "38"
        },
        "tags": [
          "sample_code"
        ],
        "id": "FAuqwGmsOLvg",
        "colab_type": "code",
        "colab": {}
      },
      "source": [
        "\n",
        "# Instantiate TfidfVectorizer object with stopwords and tokenizer with necessary parameters for efficient processing of text\n",
        "tfidf_myobject = TfidfVectorizer(max_df=0.8, max_features=200000,\n",
        "                                 min_df=0.2, stop_words='english',\n",
        "                                 use_idf=True, tokenizer=tokenize_plus_stem,\n",
        "                                 ngram_range=(1,3))"
      ],
      "execution_count": 0,
      "outputs": []
    },
    {
      "cell_type": "code",
      "metadata": {
        "id": "g1FurKCVFRT4",
        "colab_type": "code",
        "colab": {}
      },
      "source": [
        ""
      ],
      "execution_count": 0,
      "outputs": []
    },
    {
      "cell_type": "markdown",
      "metadata": {
        "id": "RRIJjixkd0-3",
        "colab_type": "text"
      },
      "source": [
        "So right now, let's fit the text and then transform the text to produce the corresponding numeric form of the data which the computer will be able to understand and derive meaning from. To do this, use the fit_transform() method of the TfidfVectorizer object."
      ]
    },
    {
      "cell_type": "code",
      "metadata": {
        "dc": {
          "key": "45"
        },
        "tags": [
          "sample_code"
        ],
        "id": "5xs78Dm8OLvj",
        "colab_type": "code",
        "outputId": "a69fbc22-58ee-4da6-9112-14a8bfb92b45",
        "colab": {
          "base_uri": "https://localhost:8080/",
          "height": 90
        }
      },
      "source": [
        "# Fit and transform the tfidf_myobject using  the \"plot\" of each movie\n",
        "tfidf_matrix = tfidf_myobject.fit_transform([x for x in moviesDT[\"plot\"]])\n",
        "\n",
        "print(tfidf_matrix.shape)"
      ],
      "execution_count": 38,
      "outputs": [
        {
          "output_type": "stream",
          "text": [
            "/usr/local/lib/python3.6/dist-packages/sklearn/feature_extraction/text.py:300: UserWarning: Your stop_words may be inconsistent with your preprocessing. Tokenizing the stop words generated tokens ['abov', 'afterward', 'alon', 'alreadi', 'alway', 'ani', 'anoth', 'anyon', 'anyth', 'anywher', 'becam', 'becaus', 'becom', 'befor', 'besid', 'cri', 'describ', 'dure', 'els', 'elsewher', 'empti', 'everi', 'everyon', 'everyth', 'everywher', 'fifti', 'forti', 'henc', 'hereaft', 'herebi', 'howev', 'hundr', 'inde', 'mani', 'meanwhil', 'moreov', 'nobodi', 'noon', 'noth', 'nowher', 'onc', 'onli', 'otherwis', 'ourselv', 'perhap', 'pleas', 'sever', 'sinc', 'sincer', 'sixti', 'someon', 'someth', 'sometim', 'somewher', 'themselv', 'thenc', 'thereaft', 'therebi', 'therefor', 'togeth', 'twelv', 'twenti', 'veri', 'whatev', 'whenc', 'whenev', 'wherea', 'whereaft', 'wherebi', 'wherev', 'whi', 'yourselv'] not in stop_words.\n",
            "  'stop_words.' % sorted(inconsistent))\n"
          ],
          "name": "stderr"
        },
        {
          "output_type": "stream",
          "text": [
            "(102, 535)\n"
          ],
          "name": "stdout"
        }
      ]
    },
    {
      "cell_type": "code",
      "metadata": {
        "id": "7sSnN2ksdiEF",
        "colab_type": "code",
        "colab": {}
      },
      "source": [
        ""
      ],
      "execution_count": 0,
      "outputs": []
    }
  ]
}